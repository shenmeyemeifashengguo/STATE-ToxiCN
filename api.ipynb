{
 "cells": [
  {
   "cell_type": "code",
   "execution_count": null,
   "metadata": {},
   "outputs": [
    {
     "name": "stdout",
     "output_type": "stream",
     "text": [
      "处理完成，结果已保存到 output.json 文件中。\n"
     ]
    }
   ],
   "source": [
    "# Please install OpenAI SDK first: `pip3 install openai`\n",
    "\n",
    "import json\n",
    "from openai import OpenAI\n",
    "\n",
    "try:\n",
    "    client = OpenAI(api_key=\"your_key\", base_url=\"your_url\")\n",
    "    \n",
    "    with open('/root/autodl-tmp/chouhen/startagain/data/test.json', 'r', encoding='utf-8') as file:\n",
    "        sentences = json.load(file)\n",
    "\n",
    "    def generate_prompt(sentence):\n",
    "        return {\n",
    "            'role': 'system', 'content': '你是一个内容审查专家，请你分析我的句子并且从中提取出一个或者多个四元组',\n",
    "            'role': 'user', 'content': f'''请从下面的文本抽取一个或多个四元组，每一个四元组输出格式为评论对象|对象观点|仇恨群体|是否仇恨，评论对象可以为\"NULL\", 对象观点尽量简洁,仇恨群体只包括(LGBTQ、Region、Sexism、Racism、others、non-hate)，同一四元组可能涉及多个仇恨群体，是否仇恨标签为(hate、non-hate),多个四元组之间用[SEP]分隔,最后一个四元组后面加[END]。\n",
    "            仇恨样本输入：\"谁喜欢小黑啊，黑不拉几的看一眼都嫌脏，也就某些连汽车排气口都不放过的男人会喜欢黑妞\"\n",
    "            仇恨样本输出：\"小黑|黑不拉几的看一眼都嫌脏|Racism|hate [SEP] 某些连汽车排气口都不放过的男人|喜欢黑妞|Sexism, Racism|hate [END]\"\n",
    "            非仇恨样本输入：\"由同性伴侣抚养长大的孩子，在学校表现比异性伴侣抚养的孩子更好，并且比异性伴侣的孩子高中毕业率高出4.8%。\"\n",
    "            非仇恨样本输出：\"由同性伴侣抚养长大的孩子|在学校表现比异性伴侣抚养的孩子更好|non-hate|non-hate [END]\"\n",
    "            提取出句子中包含的所有四元组:\"{sentence}\"'''\n",
    "        }\n",
    "    \n",
    "    output = []\n",
    "\n",
    "    def save_results():\n",
    "        with open('your_test_file.json', 'w', encoding='utf-8') as file:\n",
    "            json.dump(output, file, ensure_ascii=False, indent=4)\n",
    "\n",
    "    for sentence in sentences:\n",
    "        try:\n",
    "            completion = client.chat.completions.create(\n",
    "                model=\"gemini-2.0-flash-exp\",  \n",
    "                messages=[\n",
    "                    generate_prompt(sentence)\n",
    "                ]\n",
    "            )\n",
    "            \n",
    "            result = completion.choices[0].message.content.strip()\n",
    "\n",
    "            output.append({\n",
    "                'sentence': sentence,\n",
    "                'response': result\n",
    "            })\n",
    "                        \n",
    "            save_results()\n",
    "\n",
    "        except Exception as e:\n",
    "            print(f\"Error：{e}\")\n",
    "            output.append({\n",
    "                'sentence': sentence,\n",
    "                'response': f\"Error: {e}\"\n",
    "            })\n",
    "\n",
    "    print(\"Processing completed, results have been saved to the output.json file.\")\n",
    "\n",
    "except Exception as e:\n",
    "    print(f\"Initialization error：{e}\")\n"
   ]
  }
 ],
 "metadata": {
  "kernelspec": {
   "display_name": "Python 3 (ipykernel)",
   "language": "python",
   "name": "python3"
  },
  "language_info": {
   "codemirror_mode": {
    "name": "ipython",
    "version": 3
   },
   "file_extension": ".py",
   "mimetype": "text/x-python",
   "name": "python",
   "nbconvert_exporter": "python",
   "pygments_lexer": "ipython3",
   "version": "3.8.10"
  }
 },
 "nbformat": 4,
 "nbformat_minor": 4
}
